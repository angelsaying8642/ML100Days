{
 "cells": [
  {
   "cell_type": "markdown",
   "metadata": {
    "id": "P6xk2_jLsvFF"
   },
   "source": [
    "# [作業目標]\n",
    "\n",
    "1. [簡答題] 請問 type(...) 跟 a.dtype 這兩個語法有什麼不同？\n",
    "\n",
    "```\n",
    "print('type(a): ', type(a))\n",
    "print('a.dtype: ', a.dtype)\n",
    "```\n",
    "\n",
    "2. 請撰寫一個判斷 a 的元素是否等於指定資料型態的函式\n",
    "\n",
    "3. [簡答題] 承上題，請判斷下列三種寫法為何不正確？\n",
    "\n",
    "```\n",
    "def is_dtype(a, t):\n",
    "    return a.dtype is t\n",
    "\n",
    "def is_dtype(a, t):\n",
    "    return type(a) == np.dtype(t)\n",
    "\n",
    "def is_dtype(a, t):\n",
    "    return type(a) is np.dtype(t)\n",
    "```"
   ]
  },
  {
   "cell_type": "markdown",
   "metadata": {
    "id": "uXGll28asvFS"
   },
   "source": [
    "# 作業 "
   ]
  },
  {
   "cell_type": "markdown",
   "metadata": {
    "id": "qmOwRRtHNgfI"
   },
   "source": [
    "### 1. [簡答題] 請問 type(...) 跟 a.dtype 這兩個語法有什麼不同？\n",
    "\n",
    "```\n",
    "print('type(a): ', type(a))\n",
    "print('a.dtype: ', a.dtype)\n",
    "```\n"
   ]
  },
  {
   "cell_type": "code",
   "execution_count": 1,
   "metadata": {},
   "outputs": [],
   "source": [
    "import numpy as np"
   ]
  },
  {
   "cell_type": "code",
   "execution_count": 2,
   "metadata": {},
   "outputs": [],
   "source": [
    "a = np.arange(15).reshape(3, 5)"
   ]
  },
  {
   "cell_type": "code",
   "execution_count": 3,
   "metadata": {
    "id": "5QrYoyNWsvFS",
    "outputId": "8977bda1-0e79-4faa-8370-76a2b0767482"
   },
   "outputs": [
    {
     "data": {
      "text/plain": [
       "dtype('int32')"
      ]
     },
     "execution_count": 3,
     "metadata": {},
     "output_type": "execute_result"
    }
   ],
   "source": [
    "a.dtype"
   ]
  },
  {
   "cell_type": "code",
   "execution_count": 4,
   "metadata": {},
   "outputs": [
    {
     "data": {
      "text/plain": [
       "numpy.ndarray"
      ]
     },
     "execution_count": 4,
     "metadata": {},
     "output_type": "execute_result"
    }
   ],
   "source": [
    "type(a)"
   ]
  },
  {
   "cell_type": "markdown",
   "metadata": {},
   "source": [
    "回傳型態不一樣，dtype是回傳數值型態，type是回傳a這個物件是什麼型態"
   ]
  },
  {
   "cell_type": "markdown",
   "metadata": {
    "id": "hgsGyqXHNgfK"
   },
   "source": [
    "### 2. 請撰寫一個判斷 a 的元素是否等於指定資料型態的函式，並且通過測試。\n",
    "\n"
   ]
  },
  {
   "cell_type": "code",
   "execution_count": null,
   "metadata": {
    "id": "e1gVI0tvsvFY"
   },
   "outputs": [],
   "source": [
    "# 記得先 Import 正確的套件\n",
    "\n",
    "'''\n",
    "Your Code\n",
    "'''"
   ]
  },
  {
   "cell_type": "code",
   "execution_count": 6,
   "metadata": {
    "id": "ew2BtKF2NgfL"
   },
   "outputs": [],
   "source": [
    "def is_dtype(a, t):\n",
    "    '''\n",
    "    Your Code\n",
    "    '''\n",
    "    if a.dtype == t:\n",
    "        return True"
   ]
  },
  {
   "cell_type": "code",
   "execution_count": 7,
   "metadata": {
    "id": "sGs__HXnNgfL",
    "outputId": "6230ab6b-ea54-4102-ebae-5202b9f4826d"
   },
   "outputs": [
    {
     "name": "stdout",
     "output_type": "stream",
     "text": [
      "True\n",
      "True\n",
      "True\n"
     ]
    }
   ],
   "source": [
    "a = np.random.randint(10, size=6) \n",
    "\n",
    "# 測試一\n",
    "print(is_dtype(a, 'int')) # True\n",
    "\n",
    "# 測試二\n",
    "print(is_dtype(a, np.int)) # True\n",
    "\n",
    "# 測試三\n",
    "print(is_dtype(a, np.dtype('int'))) # True"
   ]
  },
  {
   "cell_type": "markdown",
   "metadata": {
    "id": "iM6o3Ra1NgfM"
   },
   "source": [
    "### 3. [簡答題] 承上題，請判斷下列三種寫法為何不正確？\n",
    "\n",
    "```\n",
    "def is_dtype(a, t):\n",
    "    return a.dtype is t\n",
    "\n",
    "def is_dtype(a, t):\n",
    "    return type(a) == np.dtype(t)\n",
    "\n",
    "def is_dtype(a, t):\n",
    "    return type(a) is np.dtype(t)\n",
    "```"
   ]
  },
  {
   "cell_type": "code",
   "execution_count": 8,
   "metadata": {
    "id": "INXaaXTuNgfM"
   },
   "outputs": [
    {
     "name": "stdout",
     "output_type": "stream",
     "text": [
      "False\n"
     ]
    }
   ],
   "source": [
    "def is_dtype(a, t):\n",
    "    return a.dtype is t\n",
    "print(is_dtype(a, 'int')) # True"
   ]
  },
  {
   "cell_type": "code",
   "execution_count": 9,
   "metadata": {
    "id": "WH1UuVJCNgfN"
   },
   "outputs": [
    {
     "name": "stderr",
     "output_type": "stream",
     "text": [
      "<>:1: SyntaxWarning: \"is\" with a literal. Did you mean \"==\"?\n",
      "<>:1: SyntaxWarning: \"is\" with a literal. Did you mean \"==\"?\n",
      "<ipython-input-9-2b306a9c66c2>:1: SyntaxWarning: \"is\" with a literal. Did you mean \"==\"?\n",
      "  a.dtype is 'int'\n"
     ]
    },
    {
     "data": {
      "text/plain": [
       "False"
      ]
     },
     "execution_count": 9,
     "metadata": {},
     "output_type": "execute_result"
    }
   ],
   "source": [
    "a.dtype is 'int'"
   ]
  },
  {
   "cell_type": "markdown",
   "metadata": {
    "id": "XOPQVru2NgfN"
   },
   "source": [
    "NumPy 的型態定義成用型態名稱的字串作為表示，因此在使用 == 比較的時候，會可以接受的字串或物件的形式；但使用 is 的話就必須要跟 np.dtype 物件來相比"
   ]
  }
 ],
 "metadata": {
  "colab": {
   "name": "02 Homework.ipynb",
   "provenance": []
  },
  "kernelspec": {
   "display_name": "Python 3",
   "language": "python",
   "name": "python3"
  },
  "language_info": {
   "codemirror_mode": {
    "name": "ipython",
    "version": 3
   },
   "file_extension": ".py",
   "mimetype": "text/x-python",
   "name": "python",
   "nbconvert_exporter": "python",
   "pygments_lexer": "ipython3",
   "version": "3.8.3"
  }
 },
 "nbformat": 4,
 "nbformat_minor": 1
}
